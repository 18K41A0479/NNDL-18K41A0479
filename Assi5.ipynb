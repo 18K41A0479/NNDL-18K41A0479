{
  "nbformat": 4,
  "nbformat_minor": 0,
  "metadata": {
    "colab": {
      "name": "Assignment-05 Program.ipynb",
      "provenance": [],
      "include_colab_link": true
    },
    "kernelspec": {
      "name": "python3",
      "display_name": "Python 3"
    },
    "language_info": {
      "name": "python"
    }
  },
  "cells": [
    {
      "cell_type": "markdown",
      "metadata": {
        "id": "view-in-github",
        "colab_type": "text"
      },
      "source": [
        "<a href=\"https://colab.research.google.com/github/18K41A0479/NNDL-18K41A0479/blob/main/Assi5.ipynb\" target=\"_parent\"><img src=\"https://colab.research.google.com/assets/colab-badge.svg\" alt=\"Open In Colab\"/></a>"
      ]
    },
    {
      "cell_type": "code",
      "metadata": {
        "id": "SOFG53XeqK2V"
      },
      "source": [
        "from sympy import Symbol, Derivative, symbols\n",
        "m= Symbol('m')\n",
        "c= Symbol('c')\n",
        "function = '0.5*(y-m*x-c)**2'\n",
        "partialderivative= Derivative(function, m)\n",
        "dfm = partialderivative.doit()\n",
        "partialderivative= Derivative(function, c)\n",
        "dfc = partialderivative.doit()\n",
        "xa = [0.2,0.4,0.6,0.8,1.0,1.2]\n",
        "ya = [2.4,3.8,4.2,4.6,5.0,5.4]\n",
        "bs = 2\n",
        "m1 = 1.0 \n",
        "c1 = -1.0  \n",
        "itr = 1000 \n",
        "learningrate = 0.1  \n",
        "ns = len(xa)\n",
        "nb = ns//bs\n",
        "ms = ns%bs\n",
        "for i in range(0,itr):\n",
        "    for k in range(0,nb):\n",
        "        dfmv1 = 0\n",
        "        dfcv1 = 0\n",
        "        for j in range(0,bs):\n",
        "            index = k*bs + j\n",
        "            m = symbols('m')\n",
        "            c = symbols('c')\n",
        "            x = symbols('x')\n",
        "            y = symbols('y')\n",
        "            dfmv = dfm.subs(m, m1) \n",
        "            dfmv = dfmv.subs(c, c1) \n",
        "            dfmv = dfmv.subs(x, xa[index]) \n",
        "            dfmv = dfmv.subs(y, ya[index]) \n",
        "            dfmv = round(dfmv,2)\n",
        "            dfcv = dfc.subs(c, c1) \n",
        "            dfcv = dfcv.subs(m, m1) \n",
        "            dfcv = dfcv.subs(x, xa[index]) \n",
        "            dfcv = dfcv.subs(y, ya[index]) \n",
        "            dfcv = round(dfcv,2)\n",
        "            dfmv1 += dfmv\n",
        "            dfcv1 += dfcv \n",
        "        dfmv1 = dfmv1/bs\n",
        "        dfcv1 = dfcv1/bs\n",
        "        dfmv1 = round(dfmv1,2)\n",
        "        dfcv1 = round(dfcv1,2)\n",
        "        dm = (-1.0)*learningrate*dfmv1\n",
        "        dc = (-1.0)*learningrate*dfcv1\n",
        "        m1 = m1 + dm \n",
        "        c1 = c1 + dc\n",
        "k = nb\n",
        "if(ms>0):\n",
        "    dfmv1 = 0\n",
        "    dfcv1 = 0\n",
        "    for j in range(0,ms):\n",
        "        index = k*bs + j\n",
        "        m = symbols('m')\n",
        "        c = symbols('c')\n",
        "        x = symbols('x')\n",
        "        y = symbols('y')\n",
        "        dfmv = dfm.subs(m, m1) \n",
        "        dfmv = dfmv.subs(c, c1) \n",
        "        dfmv = dfmv.subs(x, xa[index]) \n",
        "        dfmv = dfmv.subs(y, ya[index]) \n",
        "        dfcv = dfc.subs(c, c1) \n",
        "        dfcv = dfcv.subs(m, m1) \n",
        "        dfcv = dfcv.subs(x, xa[index]) \n",
        "        dfcv = dfcv.subs(y, ya[index]) \n",
        "        dfmv1 += dfmv\n",
        "        dfcv1 += dfcv\n",
        "    dfmv1 = dfmv1/ms\n",
        "    dfcv1 = dfcv1/ms\n",
        "    dm = (-1.0)*learningrate*dfmv1\n",
        "    dc = (-1.0)*learningrate*dfcv1\n",
        "    m1 = m1 + dm \n",
        "    c1 = c1 + dc\n",
        "m1= round(m1,2)\n",
        "c1= round(c1,2)\n",
        "print(m1, c1)\n",
        "print(f'minimum value obtained at m = {m1} ,c ={c1}')"
      ],
      "execution_count": null,
      "outputs": []
    },
    {
      "cell_type": "code",
      "metadata": {
        "id": "nbxxjGZarNTZ"
      },
      "source": [
        "import matplotlib.pyplot as plt\n",
        "import numpy as np\n",
        "x = np.linspace(-5,5,100)\n",
        "y = m1*x+c1\n",
        "plt.plot(x, y, '-r', label='y='+str(m1)+'x+'+str(c1))\n",
        "plt.title('Graph of '+'y='+str(m1)+'x+'+str(c1))\n",
        "plt.xlabel('x', color='#1C2833')\n",
        "plt.ylabel('y', color='#1C2833')\n",
        "plt.legend(loc='upper left')\n",
        "plt.grid()\n",
        "plt.show()"
      ],
      "execution_count": null,
      "outputs": []
    },
    {
      "cell_type": "code",
      "metadata": {
        "id": "g-NvSW-4rdBZ"
      },
      "source": [
        "data_pred = []\n",
        "for i in xa:\n",
        "    data_pred.append(m1*i+c1)\n",
        "\n",
        "from sklearn.metrics import mean_squared_error\n",
        "mse = mean_squared_error(ya,data_pred)\n",
        "print(f\"mean square error : {mse}\")"
      ],
      "execution_count": null,
      "outputs": []
    }
  ]
}