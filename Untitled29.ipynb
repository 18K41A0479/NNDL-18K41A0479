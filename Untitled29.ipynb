{
  "nbformat": 4,
  "nbformat_minor": 0,
  "metadata": {
    "colab": {
      "name": "Untitled29.ipynb",
      "provenance": [],
      "authorship_tag": "ABX9TyOxLz1Euo01U9/2NfaI3ho2",
      "include_colab_link": true
    },
    "kernelspec": {
      "name": "python3",
      "display_name": "Python 3"
    }
  },
  "cells": [
    {
      "cell_type": "markdown",
      "metadata": {
        "id": "view-in-github",
        "colab_type": "text"
      },
      "source": [
        "<a href=\"https://colab.research.google.com/github/18K41A0479/NNDL-18K41A0479/blob/main/Untitled29.ipynb\" target=\"_parent\"><img src=\"https://colab.research.google.com/assets/colab-badge.svg\" alt=\"Open In Colab\"/></a>"
      ]
    },
    {
      "cell_type": "code",
      "metadata": {
        "colab": {
          "base_uri": "https://localhost:8080/"
        },
        "id": "lPuI0UzbVZJ_",
        "outputId": "13a65e8f-e079-4eb5-e52c-bb9086ece9bb"
      },
      "source": [
        "from sympy import *\r\n",
        "x = Symbol('x')\r\n",
        "y = diff(x**4+3*x**2+10,x)\r\n",
        "print(f'First order derivative of function is ') \r\n",
        "z =3.0 \r\n",
        "itr = 250\r\n",
        "learningrate = 0.01\r\n",
        "for i in range(0,itr):\r\n",
        "    x = symbols('x')\r\n",
        "    df = y.subs(x, z) \r\n",
        "    df = round(df,2)\r\n",
        "    dx = (-1.0)*learningrate*df\r\n",
        "    z = z + dx\r\n",
        "    x1 = round(z, 2)\r\n",
        "print(z)\r\n",
        "print(f'minimum value obtained at x = {z} for function')\r\n",
        "fn = x**4+3*x**2+10\r\n",
        "print(f'value for function(f(x)) at minimum value x = {z} is {fn.subs(x,z)}')"
      ],
      "execution_count": 1,
      "outputs": [
        {
          "output_type": "stream",
          "text": [
            "First order derivative of function is \n",
            "0.0007999999999997445\n",
            "minimum value obtained at x = 0.0007999999999997445 for function\n",
            "value for function(f(x)) at minimum value x = 0.0007999999999997445 is 10.0000019200004\n"
          ],
          "name": "stdout"
        }
      ]
    }
  ]
}